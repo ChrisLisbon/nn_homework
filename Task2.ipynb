{
 "cells": [
  {
   "cell_type": "code",
   "execution_count": 12,
   "id": "60efbd67-9832-4372-a89c-03a8235ed594",
   "metadata": {},
   "source": [
    "import numpy as np\n",
    "import pandas as pd\n",
    "from matplotlib import pyplot as plt\n",
    "from torch import optim\n",
    "from ucimlrepo import fetch_ucirepo\n",
    "from sklearn.preprocessing import MinMaxScaler, LabelEncoder\n",
    "\n",
    "import torch\n",
    "import torch.nn as nn\n",
    "from torch.autograd import Variable\n",
    "from torch.utils.data import DataLoader, TensorDataset\n",
    "from sklearn.metrics import r2_score, mean_squared_error, root_mean_squared_error\n",
    "import warnings\n",
    "warnings.filterwarnings(\"ignore\")"
   ],
   "outputs": []
  },
  {
   "cell_type": "markdown",
   "id": "e43981e8-29f0-430f-84ee-31add5b8529f",
   "metadata": {},
   "source": [
    "## Подготовка датасета"
   ]
  },
  {
   "cell_type": "markdown",
   "id": "d03fd9a8-7ff7-40a1-aa5f-72ae2d76be79",
   "metadata": {},
   "source": [
    "### Кодирование строковых признаков"
   ]
  },
  {
   "cell_type": "code",
   "execution_count": 13,
   "id": "431feb03-b3f0-4d7d-9b5f-b07d2999ff78",
   "metadata": {},
   "source": [
    "steel_industry_energy_consumption = fetch_ucirepo(id=851)\n",
    "\n",
    "# data (as pandas dataframes)\n",
    "X = steel_industry_energy_consumption.data.features\n",
    "y = steel_industry_energy_consumption.data.targets\n",
    "\n",
    "encoder = LabelEncoder()\n",
    "encoder.fit_transform(X['WeekStatus'].to_frame())\n",
    "X['WeekStatus'] = encoder.transform(X['WeekStatus'].to_frame())\n",
    "\n",
    "encoder = LabelEncoder()\n",
    "encoder.fit_transform(X['Day_of_week'].to_frame())\n",
    "X['Day_of_week'] = encoder.transform(X['Day_of_week'].to_frame())\n",
    "\n",
    "encoder = LabelEncoder()\n",
    "encoder.fit_transform(y['Load_Type'].to_frame())\n",
    "y['Load_Type'] = encoder.transform(y['Load_Type'].to_frame())\n",
    "\n",
    "dataset = X\n",
    "dataset['Load_Type'] = y['Load_Type']\n",
    "dataset.to_csv('kw_dataset.csv', index=False) # сохраняем на случай если будет нужно вернуться от заскейленных значений к исходным"
   ],
   "outputs": []
  },
  {
   "cell_type": "markdown",
   "id": "c276c11b-3764-4b9b-9ce6-aa5832b91215",
   "metadata": {},
   "source": [
    "### Нормализация данных"
   ]
  },
  {
   "cell_type": "code",
   "execution_count": 15,
   "id": "89633241-77f5-42db-b9c0-f8c16acf3621",
   "metadata": {},
   "source": [
    "dataset = pd.read_csv('kw_dataset.csv')\n",
    "\n",
    "for column in dataset.columns:\n",
    "    scaler = MinMaxScaler()\n",
    "    scaler.fit_transform(dataset[column].to_frame())\n",
    "    dataset[column] = scaler.transform(dataset[column].to_frame())\n",
    "\n",
    "dataset.head()"
   ],
   "outputs": []
  },
  {
   "cell_type": "markdown",
   "id": "2910b5c2-459a-460c-b3e7-3c305fa86dff",
   "metadata": {},
   "source": [
    "### Подготовка обучающей и тестовой выборок"
   ]
  },
  {
   "cell_type": "code",
   "execution_count": 16,
   "id": "101f08d8-c5dd-4588-8405-9ca48e781b83",
   "metadata": {},
   "source": [
    "X = dataset.drop(columns=['Usage_kWh'])\n",
    "y = dataset['Usage_kWh'].values\n",
    "\n",
    "X = np.expand_dims(X.to_numpy().astype(float), axis=1)\n",
    "y = np.expand_dims(y.astype(float), axis=1)\n",
    "split_ratio = int(y.shape[0]*0.8)\n",
    "X_train = X[:split_ratio].astype(float)\n",
    "X_test = X[split_ratio:].astype(float)\n",
    "y_train = y[:split_ratio].astype(float)\n",
    "y_test = y[split_ratio:].astype(float)\n",
    "\n",
    "print(f'X_train.shape={X_train.shape}')\n",
    "print(f'X_test.shape={X_test.shape}')\n",
    "print(f'y_train.shape={y_train.shape}')\n",
    "print(f'y_test.shape={y_test.shape}')"
   ],
   "outputs": []
  },
  {
   "cell_type": "markdown",
   "id": "4f851907-f87a-4ffb-bedc-6be995e3f323",
   "metadata": {},
   "source": [
    "### Подготовка обучающего датасета и лоадера"
   ]
  },
  {
   "cell_type": "code",
   "execution_count": 17,
   "id": "ca43ffaf-ddb7-433e-8e4d-b627731171c8",
   "metadata": {},
   "source": [
    "dataset = TensorDataset(torch.Tensor(X_train), torch.Tensor(y_train))\n",
    "dataloader = DataLoader(dataset, batch_size=100, shuffle=False)\n",
    "print('Loader created')"
   ],
   "outputs": []
  },
  {
   "cell_type": "markdown",
   "id": "df211e27-99b3-4313-8835-e8c0549016eb",
   "metadata": {},
   "source": [
    "## Реализация моделей - RNN, GRU, LSTM"
   ]
  },
  {
   "cell_type": "code",
   "execution_count": 19,
   "id": "b783dbc5-8cce-4202-86f0-b7ce1679e64f",
   "metadata": {},
   "source": [
    "class RNNModel(nn.Module):\n",
    "    def __init__(self, input_dim, hidden_dim, layer_dim, output_dim):\n",
    "        super(RNNModel, self).__init__()\n",
    "        self.hidden_dim = hidden_dim\n",
    "        self.layer_dim = layer_dim\n",
    "        self.rnn = nn.RNN(input_dim, hidden_dim, layer_dim, batch_first=True, nonlinearity='relu')\n",
    "        self.fc = nn.Linear(hidden_dim, output_dim)\n",
    "\n",
    "    def forward(self, x):\n",
    "        h0 = Variable(torch.zeros(self.layer_dim, x.size(0), self.hidden_dim)).to(device)\n",
    "        out, hn = self.rnn(x, h0)\n",
    "        out = self.fc(out[:, -1, :])\n",
    "        return out\n",
    "\n",
    "class GRU(nn.Module):\n",
    "    def __init__(self, input_dim, hidden_dim, layer_dim, output_dim):\n",
    "        super(GRU, self).__init__()\n",
    "        self.hidden_size = hidden_dim\n",
    "        self.num_layers = layer_dim\n",
    "        self.gru = nn.GRU(input_dim, hidden_dim, layer_dim, batch_first=True)\n",
    "        self.fc1 = nn.Linear(hidden_dim, output_dim)\n",
    "\n",
    "    def forward(self, x):\n",
    "        h0 = torch.zeros(self.num_layers, x.size(0), self.hidden_size).to(device)\n",
    "        out, _ = self.gru(x, h0)\n",
    "        out = out.reshape(out.shape[0], -1)\n",
    "        out = self.fc1(out)\n",
    "        return out\n",
    "\n",
    "class LSTM(nn.Module):\n",
    "    def __init__(self, input_dim, hidden_dim, layer_dim, output_dim):\n",
    "        super(LSTM, self).__init__()\n",
    "        self.hidden_size = hidden_dim\n",
    "        self.num_layers = layer_dim\n",
    "        self.lstm = nn.LSTM(input_dim, hidden_dim, layer_dim, batch_first=True)\n",
    "        self.fc1 = nn.Linear(hidden_dim, output_dim)\n",
    "\n",
    "    def forward(self, x):\n",
    "        h0 = torch.zeros(self.num_layers, x.size(0), self.hidden_size).to(device=device)\n",
    "        c0 = torch.zeros(self.num_layers, x.size(0), self.hidden_size).to(device=device)\n",
    "        out, _ = self.lstm(x, (h0, c0))\n",
    "        out = out.reshape(out.size(0), -1)\n",
    "        out = self.fc1(out)\n",
    "        return out"
   ],
   "outputs": []
  },
  {
   "cell_type": "markdown",
   "id": "cb77c1e1-b051-45a2-9474-2833fb662a66",
   "metadata": {},
   "source": [
    "### Инициализация параметров моделей"
   ]
  },
  {
   "cell_type": "code",
   "execution_count": 21,
   "id": "0c635cdd-2cc6-4ea3-a645-354a3ea67799",
   "metadata": {},
   "source": [
    "input_dim = 9    # input dimension\n",
    "hidden_dim = 50  # hidden layer dimension\n",
    "layer_dim = 1     # number of hidden layers\n",
    "output_dim = 1   # output dimension\n",
    "device = 'cuda'"
   ],
   "outputs": []
  },
  {
   "cell_type": "code",
   "execution_count": null,
   "id": "18bfe1d4-5673-4fdd-b395-c700ed8613d1",
   "metadata": {},
   "source": [],
   "outputs": []
  }
 ],
 "metadata": {
  "kernelspec": {
   "display_name": "Python 3 (ipykernel)",
   "language": "python",
   "name": "python3"
  },
  "language_info": {
   "codemirror_mode": {
    "name": "ipython",
    "version": 3
   },
   "file_extension": ".py",
   "mimetype": "text/x-python",
   "name": "python",
   "nbconvert_exporter": "python",
   "pygments_lexer": "ipython3",
   "version": "3.12.3"
  }
 },
 "nbformat": 4,
 "nbformat_minor": 5
}
